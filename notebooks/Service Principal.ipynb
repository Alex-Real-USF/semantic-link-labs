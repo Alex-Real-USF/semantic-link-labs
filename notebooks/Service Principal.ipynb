{
 "cells": [
  {
   "cell_type": "markdown",
   "id": "5c27dfd1-4fe0-4a97-92e6-ddf78889aa93",
   "metadata": {
    "nteract": {
     "transient": {
      "deleting": false
     }
    }
   },
   "source": [
    "### Install the latest .whl package\n",
    "\n",
    "Check [here](https://pypi.org/project/semantic-link-labs/) to see the latest version."
   ]
  },
  {
   "cell_type": "code",
   "execution_count": null,
   "id": "d5cae9db-cef9-48a8-a351-9c5fcc99645c",
   "metadata": {
    "jupyter": {
     "outputs_hidden": true,
     "source_hidden": false
    },
    "nteract": {
     "transient": {
      "deleting": false
     }
    }
   },
   "outputs": [],
   "source": [
    "%pip install semantic-link-labs"
   ]
  },
  {
   "cell_type": "markdown",
   "id": "b195eae8",
   "metadata": {},
   "source": [
    "### Import the library and obtain a TokenProvider using Azure Key Vault"
   ]
  },
  {
   "cell_type": "code",
   "execution_count": null,
   "id": "1344e286",
   "metadata": {},
   "outputs": [],
   "source": [
    "import sempy_labs as labs\n",
    "from sempy_labs import admin\n",
    "from sempy_labs.tom import connect_semantic_model\n",
    "\n",
    "token_provider = labs.ServicePrincipalTokenProvider.from_azure_key_vault(\n",
    "    key_vault_uri = '', # Enter your key vault URI\n",
    "    key_vault_tenant_id = '', # Enter the key vault secret storing your Tenant ID\n",
    "    key_vault_client_id = '', # Enter the key vault secret storing your Client ID (Applciation ID)\n",
    "    key_vault_client_secret = '' # Enter the key vault secret storing your Client Secret\n",
    ")"
   ]
  },
  {
   "cell_type": "markdown",
   "id": "55e5ca67",
   "metadata": {},
   "source": [
    "### Use the generated TokenProvider to authenticate in other functions"
   ]
  },
  {
   "cell_type": "code",
   "execution_count": null,
   "id": "a9f984e9",
   "metadata": {},
   "outputs": [],
   "source": [
    "admin.list_capacities(token_provider=token_provider)"
   ]
  },
  {
   "cell_type": "code",
   "execution_count": null,
   "id": "a0d58c85",
   "metadata": {},
   "outputs": [],
   "source": [
    "dataset = '' # Enter the name of the semantic model\n",
    "workspace = None # Enter the name of the workspace\n",
    "with connect_semantic_model(dataset=dataset, workspace=workspace, readonly=True, token_provider=token_provider) as tom:\n",
    "    for t in tom.model.Tables:\n",
    "        print(t.Name)"
   ]
  },
  {
   "cell_type": "markdown",
   "id": "27826ff4",
   "metadata": {},
   "source": [
    "### Use the TokenProvider to connect to Azure Analysis Services"
   ]
  },
  {
   "cell_type": "code",
   "execution_count": null,
   "id": "0c21bd7e",
   "metadata": {},
   "outputs": [],
   "source": [
    "dataset = '' # Enter the name of the semantic model\n",
    "workspace = '' # Enter the name of the Azure Analysis Serivces instance (i.e. \"asazure://region.asazure...\")\n",
    "with connect_semantic_model(dataset=dataset, workspace=workspace, readonly=True, token_provider=token_provider) as tom:\n",
    "    for t in tom.model.Tables:\n",
    "        print(t.Name)"
   ]
  }
 ],
 "metadata": {
  "kernel_info": {
   "name": "synapse_pyspark"
  },
  "kernelspec": {
   "display_name": "Synapse PySpark",
   "language": "Python",
   "name": "synapse_pyspark"
  },
  "language_info": {
   "name": "python"
  },
  "microsoft": {
   "language": "python"
  },
  "nteract": {
   "version": "nteract-front-end@1.0.0"
  },
  "spark_compute": {
   "compute_id": "/trident/default"
  },
  "synapse_widget": {
   "state": {},
   "version": "0.1"
  },
  "widgets": {}
 },
 "nbformat": 4,
 "nbformat_minor": 5
}
