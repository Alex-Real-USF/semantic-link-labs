{
 "cells": [
  {
   "cell_type": "markdown",
   "id": "5c27dfd1-4fe0-4a97-92e6-ddf78889aa93",
   "metadata": {
    "nteract": {
     "transient": {
      "deleting": false
     }
    }
   },
   "source": [
    "### Install the latest .whl package\n",
    "\n",
    "Check [here](https://pypi.org/project/semantic-link-labs/) to see the latest version."
   ]
  },
  {
   "cell_type": "code",
   "execution_count": null,
   "id": "d5cae9db-cef9-48a8-a351-9c5fcc99645c",
   "metadata": {
    "jupyter": {
     "outputs_hidden": true,
     "source_hidden": false
    },
    "nteract": {
     "transient": {
      "deleting": false
     }
    }
   },
   "outputs": [],
   "source": [
    "%pip install semantic-link-labs"
   ]
  },
  {
   "cell_type": "markdown",
   "id": "b195eae8",
   "metadata": {},
   "source": [
    "### Import the library and obtain a TokenProvider using Azure Key Vault"
   ]
  },
  {
   "cell_type": "code",
   "execution_count": null,
   "id": "1344e286",
   "metadata": {},
   "outputs": [],
   "source": [
    "import sempy_labs as labs\n",
    "from sempy_labs import admin\n",
    "from sempy_labs.tom import connect_semantic_model\n",
    "\n",
    "key_vault_uri = '' # Enter your key vault URI\n",
    "key_vault_tenant_id = '' # Enter the key vault secret storing your Tenant ID\n",
    "key_vault_client_id = '' # Enter the key vault secret storing your Client ID (Applciation ID)\n",
    "key_vault_client_secret = '' # Enter the key vault secret storing your Client Secret"
   ]
  },
  {
   "cell_type": "markdown",
   "id": "d4651d90",
   "metadata": {},
   "source": [
    "### Use a Service Principal to authenticate to functions"
   ]
  },
  {
   "cell_type": "code",
   "execution_count": null,
   "id": "ebce3a46",
   "metadata": {},
   "outputs": [],
   "source": [
    "with labs.service_principal_authentication(\n",
    "    key_vault_uri=key_vault_uri, \n",
    "    key_vault_tenant_id=key_vault_tenant_id,\n",
    "    key_vault_client_id=key_vault_client_id,\n",
    "    key_vault_client_secret=key_vault_client_secret):\n",
    "\n",
    "    df = admin.list_capacities()\n",
    "    display(df)"
   ]
  },
  {
   "cell_type": "markdown",
   "id": "fcde09a7",
   "metadata": {},
   "source": [
    "### Use a Service Principal to connect to the Tabular Object Model (also to Azure Analysis Services)"
   ]
  },
  {
   "cell_type": "code",
   "execution_count": null,
   "id": "c0bf4de4",
   "metadata": {},
   "outputs": [],
   "source": [
    "dataset = '' # Enter the name of the semantic model\n",
    "workspace = None # Enter the name of the workspace (for Azure Analysis Serivces instance use this format: \"asazure://<region>.asazure.windows.net/<server_name>\")"
   ]
  },
  {
   "cell_type": "code",
   "execution_count": null,
   "id": "a0d58c85",
   "metadata": {},
   "outputs": [],
   "source": [
    "with labs.service_principal_authentication(\n",
    "    key_vault_uri=key_vault_uri, \n",
    "    key_vault_tenant_id=key_vault_tenant_id,\n",
    "    key_vault_client_id=key_vault_client_id,\n",
    "    key_vault_client_secret=key_vault_client_secret):\n",
    "\n",
    "    with connect_semantic_model(dataset=dataset, workspace=workspace, readonly=True) as tom:\n",
    "        for t in tom.model.Tables:\n",
    "            print(t.Name)"
   ]
  }
 ],
 "metadata": {
  "kernel_info": {
   "name": "synapse_pyspark"
  },
  "kernelspec": {
   "display_name": "Synapse PySpark",
   "language": "Python",
   "name": "synapse_pyspark"
  },
  "language_info": {
   "name": "python"
  },
  "microsoft": {
   "language": "python"
  },
  "nteract": {
   "version": "nteract-front-end@1.0.0"
  },
  "spark_compute": {
   "compute_id": "/trident/default"
  },
  "synapse_widget": {
   "state": {},
   "version": "0.1"
  },
  "widgets": {}
 },
 "nbformat": 4,
 "nbformat_minor": 5
}
